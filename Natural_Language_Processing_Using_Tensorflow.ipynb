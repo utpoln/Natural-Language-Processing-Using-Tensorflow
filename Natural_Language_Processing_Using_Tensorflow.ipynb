{
 "cells": [
  {
   "cell_type": "markdown",
   "metadata": {
    "id": "3uY9v1Z0BwZ-"
   },
   "source": [
    "# Natural Language Processing Using Tensorflow\n",
    "\n"
   ]
  },
  {
   "cell_type": "markdown",
   "metadata": {
    "id": "2ywvKQtxyolm"
   },
   "source": [
    "# Dataset: Reuters newswire dataset (Keras built-in datasets)."
   ]
  },
  {
   "cell_type": "markdown",
   "metadata": {
    "id": "Ppto8S84haTw"
   },
   "source": [
    "The Reuters Newswire Dataset comprises 11,228 news articles sourced from Reuters, each categorized into one of 46 topics. Each news article is represented as a text sequence, encoded as a list of word indexes. In this representation, individual words are tokenized and represented as integers \n"
   ]
  },
  {
   "cell_type": "code",
   "execution_count": null,
   "metadata": {
    "colab": {
     "base_uri": "https://localhost:8080/"
    },
    "id": "eTTzVWAukqPF",
    "outputId": "dd17b6f4-c28e-44b1-83b8-0782bba65a78"
   },
   "outputs": [
    {
     "name": "stdout",
     "output_type": "stream",
     "text": [
      "TensorFlow version:2.9.2\n",
      "Keras version:2.9.0\n"
     ]
    }
   ],
   "source": [
    "import tensorflow as tf\n",
    "from tensorflow import keras\n",
    "import numpy as np\n",
    "print(\"TensorFlow version:{}\".format(tf.__version__))\n",
    "print(\"Keras version:{}\".format(keras.__version__))"
   ]
  },
  {
   "cell_type": "markdown",
   "metadata": {
    "id": "WrTHxGrpzOTK"
   },
   "source": [
    "# Load the `word_index` for the Reuters dataset, which is a dictionary consisting of words as keys and the corresponding integer indices as values. There are 30,979 words in the vocabulary for this dataset. "
   ]
  },
  {
   "cell_type": "code",
   "execution_count": null,
   "metadata": {
    "colab": {
     "base_uri": "https://localhost:8080/"
    },
    "id": "XPFQvurEauLM",
    "outputId": "5494de76-a430-4f0d-d2b6-82945ba20729"
   },
   "outputs": [
    {
     "name": "stdout",
     "output_type": "stream",
     "text": [
      "Downloading data from https://storage.googleapis.com/tensorflow/tf-keras-datasets/reuters_word_index.json\n",
      "550378/550378 [==============================] - 0s 0us/step\n"
     ]
    }
   ],
   "source": [
    "word_index = keras.datasets.reuters.get_word_index()"
   ]
  },
  {
   "cell_type": "code",
   "execution_count": null,
   "metadata": {
    "colab": {
     "base_uri": "https://localhost:8080/"
    },
    "id": "iNhJYXoEcXzW",
    "outputId": "b1af6852-4334-4fab-e9d1-3586762d9efd"
   },
   "outputs": [
    {
     "data": {
      "text/plain": [
       "30979"
      ]
     },
     "execution_count": 3,
     "metadata": {},
     "output_type": "execute_result"
    }
   ],
   "source": [
    "len(word_index)"
   ]
  },
  {
   "cell_type": "code",
   "execution_count": null,
   "metadata": {
    "colab": {
     "base_uri": "https://localhost:8080/"
    },
    "id": "-OQIzppdcOmY",
    "outputId": "8214a563-b3ab-4bad-dd4e-c57b0cac33e3"
   },
   "outputs": [
    {
     "data": {
      "text/plain": [
       "[('mdbl', 10996),\n",
       " ('fawc', 16260),\n",
       " ('degussa', 12089),\n",
       " ('woods', 8803),\n",
       " ('hanging', 13796),\n",
       " ('localized', 20672),\n",
       " ('sation', 20673),\n",
       " ('chanthaburi', 20675),\n",
       " ('refunding', 10997),\n",
       " ('hermann', 8804)]"
      ]
     },
     "execution_count": 4,
     "metadata": {},
     "output_type": "execute_result"
    }
   ],
   "source": [
    "list(word_index.items())[:10]"
   ]
  },
  {
   "cell_type": "markdown",
   "metadata": {
    "id": "6eRfE58mz4zR"
   },
   "source": [
    "Let's load the dataset by using the first 30,000 words."
   ]
  },
  {
   "cell_type": "code",
   "execution_count": null,
   "metadata": {
    "colab": {
     "base_uri": "https://localhost:8080/"
    },
    "id": "8Q3Zy-k25gU6",
    "outputId": "fbe22c95-9ce2-44d7-81f8-6f48cf893eb7"
   },
   "outputs": [
    {
     "name": "stdout",
     "output_type": "stream",
     "text": [
      "Downloading data from https://storage.googleapis.com/tensorflow/tf-keras-datasets/reuters.npz\n",
      "2110848/2110848 [==============================] - 0s 0us/step\n"
     ]
    }
   ],
   "source": [
    "max_features = 30000\n",
    "\n",
    "(train_data, train_labels), (test_data, test_labels) = keras.datasets.reuters.load_data(num_words=max_features, test_split=0.2)"
   ]
  },
  {
   "cell_type": "code",
   "execution_count": null,
   "metadata": {
    "colab": {
     "base_uri": "https://localhost:8080/"
    },
    "id": "Aoqianu15gZ7",
    "outputId": "4b86d351-2d4c-46f8-d4ef-f3607b1c57ea"
   },
   "outputs": [
    {
     "name": "stdout",
     "output_type": "stream",
     "text": [
      "8982\n",
      "8982\n",
      "2246\n",
      "2246\n"
     ]
    }
   ],
   "source": [
    "# Your Code Here\n",
    "print(len(train_data))\n",
    "print(len(train_labels))\n",
    "print(len(test_data))\n",
    "print(len(test_labels))"
   ]
  },
  {
   "cell_type": "code",
   "execution_count": null,
   "metadata": {
    "colab": {
     "base_uri": "https://localhost:8080/"
    },
    "id": "DWGv9ouYcm1P",
    "outputId": "0ab06cf7-ec92-475d-d276-4b3a1e7c15dd"
   },
   "outputs": [
    {
     "name": "stdout",
     "output_type": "stream",
     "text": [
      "[1, 27595, 28842, 8, 43, 10, 447, 5, 25, 207, 270, 5, 3095, 111, 16, 369, 186, 90, 67, 7, 89, 5, 19, 102, 6, 19, 124, 15, 90, 67, 84, 22, 482, 26, 7, 48, 4, 49, 8, 864, 39, 209, 154, 6, 151, 6, 83, 11, 15, 22, 155, 11, 15, 7, 48, 9, 4579, 1005, 504, 6, 258, 6, 272, 11, 15, 22, 134, 44, 11, 15, 16, 8, 197, 1245, 90, 67, 52, 29, 209, 30, 32, 132, 6, 109, 15, 17, 12]\n"
     ]
    }
   ],
   "source": [
    "print(train_data[0])"
   ]
  },
  {
   "cell_type": "code",
   "execution_count": null,
   "metadata": {
    "colab": {
     "base_uri": "https://localhost:8080/"
    },
    "id": "RJQlhq_56RYo",
    "outputId": "ffdf287c-2b98-4123-c96e-c766d52cdbc8"
   },
   "outputs": [
    {
     "name": "stdout",
     "output_type": "stream",
     "text": [
      "[1, 3267, 699, 3434, 2295, 56, 16784, 7511, 9, 56, 3906, 1073, 81, 5, 1198, 57, 366, 737, 132, 20, 4093, 7, 19261, 49, 2295, 13415, 1037, 3267, 699, 3434, 8, 7, 10, 241, 16, 855, 129, 231, 783, 5, 4, 587, 2295, 13415, 2, 775, 7, 48, 34, 191, 44, 35, 1795, 505, 17, 12]\n"
     ]
    }
   ],
   "source": [
    "print(train_data[1])"
   ]
  },
  {
   "cell_type": "markdown",
   "metadata": {
    "id": "GKHAeTGP2gUf"
   },
   "source": [
    "Based on the word_index, we can find the sentences that correspond to each sequence of integers."
   ]
  },
  {
   "cell_type": "code",
   "execution_count": null,
   "metadata": {
    "colab": {
     "base_uri": "https://localhost:8080/"
    },
    "id": "zBbrkBYsgi4s",
    "outputId": "0d442c7f-1b59-4346-b1bf-55bcf6788e8c"
   },
   "outputs": [
    {
     "name": "stdout",
     "output_type": "stream",
     "text": [
      "[None, 'mcgrath', 'rentcorp', 'said', 'as', 'a', 'result', 'of', 'its', 'december', 'acquisition', 'of', 'space', 'co', 'it', 'expects', 'earnings', 'per', 'share', 'in', '1987', 'of', '1', '15', 'to', '1', '30', 'dlrs', 'per', 'share', 'up', 'from', '70', 'cts', 'in', '1986', 'the', 'company', 'said', 'pretax', 'net', 'should', 'rise', 'to', 'nine', 'to', '10', 'mln', 'dlrs', 'from', 'six', 'mln', 'dlrs', 'in', '1986', 'and', 'rental', 'operation', 'revenues', 'to', '19', 'to', '22', 'mln', 'dlrs', 'from', '12', '5', 'mln', 'dlrs', 'it', 'said', 'cash', 'flow', 'per', 'share', 'this', 'year', 'should', 'be', '2', '50', 'to', 'three', 'dlrs', 'reuter', '3']\n"
     ]
    }
   ],
   "source": [
    "reverse_word_index = dict([(value,key) for (key, value) in word_index.items()])\n",
    "\n",
    "print([reverse_word_index.get(i-3) for i in train_data[0]])"
   ]
  },
  {
   "cell_type": "markdown",
   "metadata": {
    "id": "uuVQZivC4j0d"
   },
   "source": [
    "The labels are the categories of the newswires with all 46 categories.\n",
    "\n",
    "```\n",
    "Reuters dataset labels:\n",
    "{'copper': 6, 'livestock': 28, 'gold': 25, 'money-fx': 19, 'ipi': 30, 'trade': 11, 'cocoa': 0, 'iron-steel': 31, \n",
    "'reserves': 12, 'tin': 26, 'zinc': 37, 'jobs': 34, 'ship': 13, 'cotton': 14, 'alum': 23, 'strategic-metal': 27, \n",
    "'lead': 45, 'housing': 7, 'meal-feed': 22, 'gnp': 21, 'sugar': 10, 'rubber': 32, 'dlr': 40, 'veg-oil': 2, 'interest': 20,\n",
    " 'crude': 16, 'coffee': 9, 'wheat': 5, 'carcass': 15, 'lei': 35, 'gas': 41, 'nat-gas': 17, 'oilseed': 24, 'orange': 38,\n",
    "  'heat': 33, 'wpi': 43, 'silver': 42, 'cpi': 18, 'earn': 3, 'bop': 36, 'money-supply': 8, 'hog': 44, 'acq': 4,\n",
    "   'pet-chem': 39, 'grain': 1, 'retail': 29}\n",
    "```"
   ]
  },
  {
   "cell_type": "code",
   "execution_count": null,
   "metadata": {
    "colab": {
     "base_uri": "https://localhost:8080/"
    },
    "id": "kyQp2RcO4ccw",
    "outputId": "5e3cf107-1707-42fc-f0fa-79c37d971e47"
   },
   "outputs": [
    {
     "data": {
      "text/plain": [
       "3"
      ]
     },
     "execution_count": 10,
     "metadata": {},
     "output_type": "execute_result"
    }
   ],
   "source": [
    "train_labels[0]"
   ]
  },
  {
   "cell_type": "code",
   "execution_count": null,
   "metadata": {
    "colab": {
     "base_uri": "https://localhost:8080/",
     "height": 265
    },
    "id": "qTL9Xt6t7sCl",
    "outputId": "6d25e005-8aed-4650-f67e-1f32b24f3165"
   },
   "outputs": [
    {
     "data": {
      "image/png": "[encoded data removed]",
      "text/plain": [
       "<Figure size 432x288 with 1 Axes>"
      ]
     },
     "metadata": {
      "needs_background": "light"
     },
     "output_type": "display_data"
    }
   ],
   "source": [
    "import matplotlib.pyplot as plt\n",
    "plt.hist(train_labels)\n",
    "plt.show()\n"
   ]
  },
  {
   "cell_type": "code",
   "execution_count": null,
   "metadata": {
    "id": "H2aNgCOPEMjF"
   },
   "outputs": [],
   "source": []
  },
  {
   "cell_type": "markdown",
   "metadata": {
    "id": "xEr062hB5Guz"
   },
   "source": [
    "## Lets Pad the Sequences"
   ]
  },
  {
   "cell_type": "code",
   "execution_count": null,
   "metadata": {
    "colab": {
     "base_uri": "https://localhost:8080/"
    },
    "id": "QHDIzN1P6f6H",
    "outputId": "dd9e4b5b-b3b2-4200-8121-1ad3085138ed"
   },
   "outputs": [
    {
     "name": "stdout",
     "output_type": "stream",
     "text": [
      "145.5398574927633\n",
      "2376\n",
      "13\n"
     ]
    }
   ],
   "source": [
    "len_sequences = np.array([], dtype = np.int64)\n",
    "\n",
    "for x in train_data:\n",
    "  len_sequences = np.append(len_sequences,len(x))\n",
    "\n",
    "print(np.mean(len_sequences))\n",
    "print(np.max(len_sequences))\n",
    "print(np.min(len_sequences))\n"
   ]
  },
  {
   "cell_type": "code",
   "execution_count": null,
   "metadata": {
    "id": "YQDKR4dR6df3"
   },
   "outputs": [],
   "source": [
    "pad_length = 300\n",
    "from tensorflow.keras.preprocessing.sequence import pad_sequences\n",
    "train_data = pad_sequences(train_data, maxlen=pad_length)\n",
    "test_data = pad_sequences(test_data, maxlen=pad_length)"
   ]
  },
  {
   "cell_type": "markdown",
   "metadata": {
    "id": "A-nU3ol8fDH9"
   },
   "source": [
    "Show the first 2 padded sequences in the train dataset. "
   ]
  },
  {
   "cell_type": "code",
   "execution_count": null,
   "metadata": {
    "colab": {
     "base_uri": "https://localhost:8080/"
    },
    "id": "79YQGT8F7SKu",
    "outputId": "b8d25de1-4d8e-4036-f270-dc0fe503d2cf",
    "scrolled": true
   },
   "outputs": [
    {
     "name": "stdout",
     "output_type": "stream",
     "text": [
      "[    0     0     0     0     0     0     0     0     0     0     0     0\n",
      "     0     0     0     0     0     0     0     0     0     0     0     0\n",
      "     0     0     0     0     0     0     0     0     0     0     0     0\n",
      "     0     0     0     0     0     0     0     0     0     0     0     0\n",
      "     0     0     0     0     0     0     0     0     0     0     0     0\n",
      "     0     0     0     0     0     0     0     0     0     0     0     0\n",
      "     0     0     0     0     0     0     0     0     0     0     0     0\n",
      "     0     0     0     0     0     0     0     0     0     0     0     0\n",
      "     0     0     0     0     0     0     0     0     0     0     0     0\n",
      "     0     0     0     0     0     0     0     0     0     0     0     0\n",
      "     0     0     0     0     0     0     0     0     0     0     0     0\n",
      "     0     0     0     0     0     0     0     0     0     0     0     0\n",
      "     0     0     0     0     0     0     0     0     0     0     0     0\n",
      "     0     0     0     0     0     0     0     0     0     0     0     0\n",
      "     0     0     0     0     0     0     0     0     0     0     0     0\n",
      "     0     0     0     0     0     0     0     0     0     0     0     0\n",
      "     0     0     0     0     0     0     0     0     0     0     0     0\n",
      "     0     0     0     0     0     0     0     0     0     1 27595 28842\n",
      "     8    43    10   447     5    25   207   270     5  3095   111    16\n",
      "   369   186    90    67     7    89     5    19   102     6    19   124\n",
      "    15    90    67    84    22   482    26     7    48     4    49     8\n",
      "   864    39   209   154     6   151     6    83    11    15    22   155\n",
      "    11    15     7    48     9  4579  1005   504     6   258     6   272\n",
      "    11    15    22   134    44    11    15    16     8   197  1245    90\n",
      "    67    52    29   209    30    32   132     6   109    15    17    12]\n",
      "[    0     0     0     0     0     0     0     0     0     0     0     0\n",
      "     0     0     0     0     0     0     0     0     0     0     0     0\n",
      "     0     0     0     0     0     0     0     0     0     0     0     0\n",
      "     0     0     0     0     0     0     0     0     0     0     0     0\n",
      "     0     0     0     0     0     0     0     0     0     0     0     0\n",
      "     0     0     0     0     0     0     0     0     0     0     0     0\n",
      "     0     0     0     0     0     0     0     0     0     0     0     0\n",
      "     0     0     0     0     0     0     0     0     0     0     0     0\n",
      "     0     0     0     0     0     0     0     0     0     0     0     0\n",
      "     0     0     0     0     0     0     0     0     0     0     0     0\n",
      "     0     0     0     0     0     0     0     0     0     0     0     0\n",
      "     0     0     0     0     0     0     0     0     0     0     0     0\n",
      "     0     0     0     0     0     0     0     0     0     0     0     0\n",
      "     0     0     0     0     0     0     0     0     0     0     0     0\n",
      "     0     0     0     0     0     0     0     0     0     0     0     0\n",
      "     0     0     0     0     0     0     0     0     0     0     0     0\n",
      "     0     0     0     0     0     0     0     0     0     0     0     0\n",
      "     0     0     0     0     0     0     0     0     0     0     0     0\n",
      "     0     0     0     0     0     0     0     0     0     0     0     0\n",
      "     0     0     0     0     0     0     0     0     0     0     0     0\n",
      "     0     0     0     0     1  3267   699  3434  2295    56 16784  7511\n",
      "     9    56  3906  1073    81     5  1198    57   366   737   132    20\n",
      "  4093     7 19261    49  2295 13415  1037  3267   699  3434     8     7\n",
      "    10   241    16   855   129   231   783     5     4   587  2295 13415\n",
      "     2   775     7    48    34   191    44    35  1795   505    17    12]\n"
     ]
    }
   ],
   "source": [
    "print(train_data[0])\n",
    "print(train_data[1])"
   ]
  },
  {
   "cell_type": "markdown",
   "metadata": {
    "id": "SgA536U1ob1b"
   },
   "source": [
    "## Create and Train a Model with Dense Layers"
   ]
  },
  {
   "cell_type": "code",
   "execution_count": null,
   "metadata": {
    "id": "xJiIJ4yl7Zxc"
   },
   "outputs": [],
   "source": [
    "embedding_dim = 64\n",
    "model_1 = tf.keras.Sequential([\n",
    "       tf.keras.layers.Embedding(input_dim=max_features, output_dim=embedding_dim, input_length=pad_length),\n",
    "       tf.keras.layers.Flatten(),\n",
    "       tf.keras.layers.Dense(1024, activation='relu'),\n",
    "       tf.keras.layers.Dropout(.5),\n",
    "       tf.keras.layers.Dense(46, activation='softmax')\n",
    "])"
   ]
  },
  {
   "cell_type": "code",
   "execution_count": null,
   "metadata": {
    "colab": {
     "base_uri": "https://localhost:8080/"
    },
    "id": "oMGDwp5BZtoe",
    "outputId": "fdb7f0fb-14a6-42c0-bbef-f0ec18c95724"
   },
   "outputs": [
    {
     "name": "stdout",
     "output_type": "stream",
     "text": [
      "Model: \"sequential\"\n",
      "_________________________________________________________________\n",
      " Layer (type)                Output Shape              Param #   \n",
      "=================================================================\n",
      " embedding (Embedding)       (None, 300, 64)           1920000   \n",
      "                                                                 \n",
      " flatten (Flatten)           (None, 19200)             0         \n",
      "                                                                 \n",
      " dense (Dense)               (None, 1024)              19661824  \n",
      "                                                                 \n",
      " dropout (Dropout)           (None, 1024)              0         \n",
      "                                                                 \n",
      " dense_1 (Dense)             (None, 46)                47150     \n",
      "                                                                 \n",
      "=================================================================\n",
      "Total params: 21,628,974\n",
      "Trainable params: 21,628,974\n",
      "Non-trainable params: 0\n",
      "_________________________________________________________________\n"
     ]
    }
   ],
   "source": [
    "model_1.summary()"
   ]
  },
  {
   "cell_type": "code",
   "execution_count": null,
   "metadata": {
    "colab": {
     "base_uri": "https://localhost:8080/"
    },
    "id": "p5fpNW8m7mKS",
    "outputId": "e10b1dfa-ea7e-4686-d85c-94b2f990c7ac"
   },
   "outputs": [
    {
     "name": "stdout",
     "output_type": "stream",
     "text": [
      "Epoch 1/5\n",
      "71/71 [==============================] - 64s 885ms/step - loss: 2.0802 - accuracy: 0.4715 - val_loss: 1.6423 - val_accuracy: 0.5899\n",
      "Epoch 2/5\n",
      "71/71 [==============================] - 62s 881ms/step - loss: 1.2039 - accuracy: 0.7121 - val_loss: 1.3315 - val_accuracy: 0.6848\n",
      "Epoch 3/5\n",
      "71/71 [==============================] - 69s 967ms/step - loss: 0.6276 - accuracy: 0.8579 - val_loss: 1.2929 - val_accuracy: 0.7066\n",
      "Epoch 4/5\n",
      "71/71 [==============================] - 62s 869ms/step - loss: 0.3283 - accuracy: 0.9329 - val_loss: 1.3062 - val_accuracy: 0.7057\n",
      "Epoch 5/5\n",
      "71/71 [==============================] - 68s 958ms/step - loss: 0.2234 - accuracy: 0.9529 - val_loss: 1.2943 - val_accuracy: 0.7168\n",
      "71/71 [==============================] - 5s 66ms/step - loss: 1.2943 - accuracy: 0.7168\n",
      "Classification Accuracy:  0.7168298959732056\n"
     ]
    }
   ],
   "source": [
    "model_1.compile(optimizer='adam', loss='sparse_categorical_crossentropy', metrics=['accuracy'])\n",
    "\n",
    "history = model_1.fit(train_data, train_labels, validation_data = (test_data, test_labels), batch_size = 128, epochs=5, validation_split=0.2)\n",
    "\n",
    "evals_test = model_1.evaluate(test_data, test_labels)\n",
    "print(\"Classification Accuracy: \", evals_test[1])\n",
    "\n"
   ]
  },
  {
   "cell_type": "code",
   "execution_count": null,
   "metadata": {
    "colab": {
     "base_uri": "https://localhost:8080/",
     "height": 513
    },
    "id": "k5uZqsT9_WX6",
    "outputId": "1ad162d4-a313-4cd8-eb34-69e59360cc59"
   },
   "outputs": [
    {
     "name": "stdout",
     "output_type": "stream",
     "text": [
      "Epoch 1/5\n",
      "71/71 [==============================] - 52s 727ms/step - loss: 2.0326 - accuracy: 0.4899 - val_loss: 1.5970 - val_accuracy: 0.6175\n",
      "Epoch 2/5\n",
      "71/71 [==============================] - 49s 689ms/step - loss: 1.1213 - accuracy: 0.7398 - val_loss: 1.3089 - val_accuracy: 0.6999\n",
      "Epoch 3/5\n",
      "71/71 [==============================] - 49s 691ms/step - loss: 0.5463 - accuracy: 0.8808 - val_loss: 1.2512 - val_accuracy: 0.7057\n",
      "Epoch 4/5\n",
      "71/71 [==============================] - 51s 714ms/step - loss: 0.2829 - accuracy: 0.9415 - val_loss: 1.2998 - val_accuracy: 0.7066\n",
      "Epoch 5/5\n",
      "71/71 [==============================] - 49s 687ms/step - loss: 0.2058 - accuracy: 0.9542 - val_loss: 1.2993 - val_accuracy: 0.7119\n"
     ]
    },
    {
     "data": {
      "image/png": "[encoded data removed]",
      "text/plain": [
       "<Figure size 864x288 with 2 Axes>"
      ]
     },
     "metadata": {
      "needs_background": "light"
     },
     "output_type": "display_data"
    },
    {
     "name": "stdout",
     "output_type": "stream",
     "text": [
      "71/71 [==============================] - 3s 46ms/step - loss: 1.2993 - accuracy: 0.7119\n",
      "Classification Accuracy:  0.7119323015213013\n"
     ]
    }
   ],
   "source": [
    "def plot_accuracy_loss():\n",
    "    # plot the accuracy and loss\n",
    "    train_loss = history.history['loss']\n",
    "    val_loss = history.history['val_loss']\n",
    "    acc = history.history['accuracy'] \n",
    "    val_acc = history.history['val_accuracy']\n",
    "\n",
    "    epochsn = np.arange(1, len(train_loss)+1,1)\n",
    "    plt.figure(figsize=(12, 4))\n",
    "\n",
    "    plt.subplot(1,2,1)\n",
    "    plt.plot(epochsn, acc, 'b', label='Training Accuracy')\n",
    "    plt.plot(epochsn, val_acc, 'r', label='Validation Accuracy')\n",
    "    plt.grid(color='gray', linestyle='--')\n",
    "    plt.legend()            \n",
    "    plt.title('ACCURACY')\n",
    "    plt.xlabel('Epochs')\n",
    "    plt.ylabel('Accuracy')\n",
    "\n",
    "    plt.subplot(1,2,2)\n",
    "    plt.plot(epochsn,train_loss, 'b', label='Training Loss')\n",
    "    plt.plot(epochsn,val_loss, 'r', label='Validation Loss')\n",
    "    plt.grid(color='gray', linestyle='--')\n",
    "    plt.legend()\n",
    "    plt.title('LOSS')\n",
    "    plt.xlabel('Epochs')\n",
    "    plt.ylabel('Loss')\n",
    "    plt.show() \n",
    "\n",
    "    \n",
    "embedding_dim = 64\n",
    "\n",
    "model_2 = tf.keras.Sequential([\n",
    "       tf.keras.layers.Embedding(input_dim=max_features, output_dim=embedding_dim, input_length=pad_length),\n",
    "       tf.keras.layers.Flatten(),\n",
    "       tf.keras.layers.Dense(1024, activation='relu'),\n",
    "       tf.keras.layers.Dropout(.5),\n",
    "       tf.keras.layers.Dense(46, activation='softmax')\n",
    "])\n",
    "\n",
    "model_2.compile(optimizer='adam', loss='sparse_categorical_crossentropy', metrics=['accuracy'])\n",
    "\n",
    "from keras.callbacks import EarlyStopping\n",
    "\n",
    "history = model_2.fit(train_data, train_labels, validation_data = (test_data, test_labels), batch_size = 128, epochs=5, validation_split=0.2, callbacks=[EarlyStopping(monitor='val_loss', patience = 10)])\n",
    "\n",
    "plot_accuracy_loss()\n",
    "\n",
    "evals_test = model_2.evaluate(test_data, test_labels)\n",
    "print(\"Classification Accuracy: \", evals_test[1])\n"
   ]
  },
  {
   "cell_type": "markdown",
   "metadata": {
    "id": "QUQp1GfUDnhP"
   },
   "source": [
    "### Global Average Pooling Layer"
   ]
  },
  {
   "cell_type": "code",
   "execution_count": null,
   "metadata": {
    "colab": {
     "base_uri": "https://localhost:8080/",
     "height": 513
    },
    "id": "-6oOEP67AJk4",
    "outputId": "cc39f7c5-abe9-4135-93d8-8897556511d7"
   },
   "outputs": [
    {
     "name": "stdout",
     "output_type": "stream",
     "text": [
      "Epoch 1/5\n",
      "71/71 [==============================] - 5s 63ms/step - loss: 2.7382 - accuracy: 0.3486 - val_loss: 2.2943 - val_accuracy: 0.3620\n",
      "Epoch 2/5\n",
      "71/71 [==============================] - 5s 73ms/step - loss: 2.2234 - accuracy: 0.3559 - val_loss: 2.1267 - val_accuracy: 0.3740\n",
      "Epoch 3/5\n",
      "71/71 [==============================] - 4s 61ms/step - loss: 1.9855 - accuracy: 0.4135 - val_loss: 1.8576 - val_accuracy: 0.4826\n",
      "Epoch 4/5\n",
      "71/71 [==============================] - 4s 61ms/step - loss: 1.7474 - accuracy: 0.5394 - val_loss: 1.6950 - val_accuracy: 0.5695\n",
      "Epoch 5/5\n",
      "71/71 [==============================] - 4s 63ms/step - loss: 1.5719 - accuracy: 0.6029 - val_loss: 1.5881 - val_accuracy: 0.6033\n"
     ]
    },
    {
     "data": {
      "image/png": "[encoded data removed]",
      "text/plain": [
       "<Figure size 864x288 with 2 Axes>"
      ]
     },
     "metadata": {
      "needs_background": "light"
     },
     "output_type": "display_data"
    },
    {
     "name": "stdout",
     "output_type": "stream",
     "text": [
      "71/71 [==============================] - 0s 5ms/step - loss: 1.5881 - accuracy: 0.6033\n",
      "Classification Accuracy:  0.6032947301864624\n"
     ]
    }
   ],
   "source": [
    "# Your Code Here\n",
    "embedding_dim = 64\n",
    "\n",
    "# Create a model\n",
    "model_3 = tf.keras.Sequential([\n",
    "       tf.keras.layers.Embedding(input_dim=max_features, output_dim=embedding_dim, input_length=pad_length),\n",
    "       tf.keras.layers.GlobalAveragePooling1D(),\n",
    "       tf.keras.layers.Dense(1024, activation='relu'),\n",
    "       tf.keras.layers.Dropout(.5),\n",
    "       tf.keras.layers.Dense(46, activation='softmax')\n",
    "])\n",
    "\n",
    "model_3.compile(optimizer='adam', loss='sparse_categorical_crossentropy', metrics=['accuracy'])\n",
    "\n",
    "history = model_3.fit(train_data, train_labels, validation_data = (test_data, test_labels), batch_size = 128, epochs=5, validation_split=0.2)\n",
    "\n",
    "plot_accuracy_loss()\n",
    "\n",
    "evals_test = model_3.evaluate(test_data, test_labels)\n",
    "print(\"Classification Accuracy: \", evals_test[1])\n"
   ]
  },
  {
   "cell_type": "markdown",
   "metadata": {
    "id": "whyOiaTrEhPc"
   },
   "source": [
    "### Apply Different Learning Rates"
   ]
  },
  {
   "cell_type": "code",
   "execution_count": null,
   "metadata": {
    "colab": {
     "base_uri": "https://localhost:8080/"
    },
    "id": "Drknr85sOsEq",
    "outputId": "b1f34876-b1a6-4415-a3ec-dc958a7cb6fc"
   },
   "outputs": [
    {
     "name": "stdout",
     "output_type": "stream",
     "text": [
      "Epoch 1/5\n",
      "71/71 [==============================] - 6s 73ms/step - loss: 1.3543 - accuracy: 0.6662 - val_loss: 1.2483 - val_accuracy: 0.6897\n",
      "Epoch 2/5\n",
      "71/71 [==============================] - 4s 58ms/step - loss: 0.8500 - accuracy: 0.7921 - val_loss: 1.2118 - val_accuracy: 0.7324\n",
      "Epoch 3/5\n",
      "71/71 [==============================] - 4s 59ms/step - loss: 0.5664 - accuracy: 0.8568 - val_loss: 1.1533 - val_accuracy: 0.7547\n",
      "Epoch 4/5\n",
      "71/71 [==============================] - 4s 59ms/step - loss: 0.4082 - accuracy: 0.8927 - val_loss: 1.2635 - val_accuracy: 0.7453\n",
      "Epoch 5/5\n",
      "71/71 [==============================] - 4s 59ms/step - loss: 0.3075 - accuracy: 0.9213 - val_loss: 1.2028 - val_accuracy: 0.7760\n",
      "71/71 [==============================] - 0s 4ms/step - loss: 1.2028 - accuracy: 0.7760\n",
      "Classification Accuracy:  0.7760462760925293\n",
      "Epoch 1/5\n",
      "71/71 [==============================] - 5s 68ms/step - loss: 0.1821 - accuracy: 0.9477 - val_loss: 1.2520 - val_accuracy: 0.7827\n",
      "Epoch 2/5\n",
      "71/71 [==============================] - 4s 52ms/step - loss: 0.1579 - accuracy: 0.9521 - val_loss: 1.3078 - val_accuracy: 0.7850\n",
      "Epoch 3/5\n",
      "71/71 [==============================] - 4s 54ms/step - loss: 0.1438 - accuracy: 0.9555 - val_loss: 1.3298 - val_accuracy: 0.7845\n",
      "Epoch 4/5\n",
      "71/71 [==============================] - 4s 52ms/step - loss: 0.1332 - accuracy: 0.9576 - val_loss: 1.4015 - val_accuracy: 0.7827\n",
      "Epoch 5/5\n",
      "71/71 [==============================] - 4s 53ms/step - loss: 0.1271 - accuracy: 0.9578 - val_loss: 1.4013 - val_accuracy: 0.7850\n",
      "71/71 [==============================] - 0s 4ms/step - loss: 1.4013 - accuracy: 0.7850\n",
      "Classification Accuracy:  0.7849510312080383\n",
      "Epoch 1/5\n",
      "71/71 [==============================] - 4s 53ms/step - loss: 0.1128 - accuracy: 0.9620 - val_loss: 1.4158 - val_accuracy: 0.7890\n",
      "Epoch 2/5\n",
      "71/71 [==============================] - 4s 53ms/step - loss: 0.1125 - accuracy: 0.9603 - val_loss: 1.4298 - val_accuracy: 0.7894\n",
      "Epoch 3/5\n",
      "71/71 [==============================] - 4s 52ms/step - loss: 0.1111 - accuracy: 0.9604 - val_loss: 1.4260 - val_accuracy: 0.7876\n",
      "Epoch 4/5\n",
      "71/71 [==============================] - 4s 50ms/step - loss: 0.1102 - accuracy: 0.9604 - val_loss: 1.4416 - val_accuracy: 0.7872\n",
      "Epoch 5/5\n",
      "71/71 [==============================] - 4s 50ms/step - loss: 0.1110 - accuracy: 0.9619 - val_loss: 1.4415 - val_accuracy: 0.7872\n",
      "71/71 [==============================] - 0s 5ms/step - loss: 1.4415 - accuracy: 0.7872\n",
      "Classification Accuracy:  0.7871772050857544\n"
     ]
    }
   ],
   "source": [
    "model_4 = model_3\n",
    "model_5 = model_3\n",
    "model_6 = model_3\n",
    "\n",
    "from tensorflow.keras.optimizers import Adam\n",
    "\n",
    "model_4.compile(optimizer= Adam(learning_rate=.01), loss='sparse_categorical_crossentropy', metrics=['accuracy'])\n",
    "\n",
    "history = model_4.fit(train_data, train_labels, validation_data = (test_data, test_labels), batch_size = 128, epochs=5, validation_split=0.2)\n",
    "\n",
    "\n",
    "evals_test = model_4.evaluate(test_data, test_labels)\n",
    "print(\"Classification Accuracy: \", evals_test[1])\n",
    "\n",
    "\n",
    "model_5.compile(optimizer= Adam(learning_rate=.001), loss='sparse_categorical_crossentropy', metrics=['accuracy'])\n",
    "\n",
    "history = model_5.fit(train_data, train_labels, validation_data = (test_data, test_labels), batch_size = 128, epochs=5, validation_split=0.2)\n",
    "\n",
    "evals_test = model_5.evaluate(test_data, test_labels)\n",
    "print(\"Classification Accuracy: \", evals_test[1])\n",
    "\n",
    "\n",
    "model_6.compile(optimizer= Adam(learning_rate=.0001), loss='sparse_categorical_crossentropy', metrics=['accuracy'])\n",
    "\n",
    "history = model_6.fit(train_data, train_labels, validation_data = (test_data, test_labels), batch_size = 128, epochs=5, validation_split=0.2)\n",
    "\n",
    "\n",
    "evals_test = model_6.evaluate(test_data, test_labels)\n",
    "print(\"Classification Accuracy: \", evals_test[1])\n"
   ]
  },
  {
   "cell_type": "markdown",
   "metadata": {
    "id": "F_ykG1fbPr8t"
   },
   "source": [
    "### Reduce Learning Rate on Plateau"
   ]
  },
  {
   "cell_type": "code",
   "execution_count": null,
   "metadata": {
    "colab": {
     "base_uri": "https://localhost:8080/"
    },
    "id": "zKlcGZRKA8h9",
    "outputId": "b12b6a56-0868-4264-c96d-af6483f6fb07"
   },
   "outputs": [
    {
     "name": "stdout",
     "output_type": "stream",
     "text": [
      "Epoch 1/5\n",
      "71/71 [==============================] - 48s 648ms/step - loss: 2.0521 - accuracy: 0.4837 - val_loss: 1.6317 - val_accuracy: 0.5988 - lr: 0.0010\n",
      "Epoch 2/5\n",
      "71/71 [==============================] - 45s 632ms/step - loss: 1.1793 - accuracy: 0.7188 - val_loss: 1.3448 - val_accuracy: 0.6848 - lr: 0.0010\n",
      "Epoch 3/5\n",
      "71/71 [==============================] - 46s 654ms/step - loss: 0.5834 - accuracy: 0.8703 - val_loss: 1.3049 - val_accuracy: 0.6995 - lr: 0.0010\n",
      "Epoch 4/5\n",
      "71/71 [==============================] - 46s 642ms/step - loss: 0.3027 - accuracy: 0.9415 - val_loss: 1.3086 - val_accuracy: 0.7026 - lr: 0.0010\n",
      "Epoch 5/5\n",
      "71/71 [==============================] - 45s 631ms/step - loss: 0.2129 - accuracy: 0.9537 - val_loss: 1.3261 - val_accuracy: 0.7021 - lr: 0.0010\n",
      "71/71 [==============================] - 3s 40ms/step - loss: 1.3261 - accuracy: 0.7021\n",
      "Classification Accuracy:  0.7021371126174927\n"
     ]
    }
   ],
   "source": [
    "# Your Code Here\n",
    "from tensorflow.keras.callbacks import EarlyStopping, ModelCheckpoint, ReduceLROnPlateau, LearningRateScheduler\n",
    "embedding_dim = 64\n",
    "\n",
    "# Create a model\n",
    "model_7 = tf.keras.Sequential([\n",
    "       tf.keras.layers.Embedding(input_dim=max_features, output_dim=embedding_dim, input_length=pad_length),\n",
    "       tf.keras.layers.Flatten(),\n",
    "       tf.keras.layers.Dense(1024, activation='relu'),\n",
    "       tf.keras.layers.Dropout(.5),\n",
    "       tf.keras.layers.Dense(46, activation='softmax')\n",
    "])\n",
    "\n",
    "\n",
    "model_7.compile(optimizer='adam', loss='sparse_categorical_crossentropy', metrics=['accuracy'])\n",
    "\n",
    "from keras.callbacks import EarlyStopping\n",
    "\n",
    "history = model_7.fit(train_data, train_labels, validation_data = (test_data, test_labels), batch_size = 128, epochs=5, validation_split=0.2, callbacks=[ReduceLROnPlateau(monitor='val_loss', factor=0.1, patience=10, min_lr=1e-6, verbose=1)])\n",
    "\n",
    "\n",
    "evals_test = model_7.evaluate(test_data, test_labels)\n",
    "print(\"Classification Accuracy: \", evals_test[1])\n",
    "#Performance on accuracy is not improved as we see.\n"
   ]
  },
  {
   "cell_type": "markdown",
   "metadata": {
    "id": "rgYEyznRQBNv"
   },
   "source": [
    "### Apply Learning Rate Scheduler"
   ]
  },
  {
   "cell_type": "code",
   "execution_count": null,
   "metadata": {
    "colab": {
     "base_uri": "https://localhost:8080/"
    },
    "id": "oB50cq4DoXGO",
    "outputId": "069fd9fb-ea4b-43d1-a529-cda74f8e0d24"
   },
   "outputs": [
    {
     "name": "stdout",
     "output_type": "stream",
     "text": [
      "Epoch 1/5\n",
      "71/71 [==============================] - 48s 671ms/step - loss: 2.5423 - accuracy: 0.3601 - val_loss: 2.3178 - val_accuracy: 0.4337 - lr: 1.0000e-04\n",
      "Epoch 2/5\n",
      "71/71 [==============================] - 45s 634ms/step - loss: 2.1959 - accuracy: 0.4547 - val_loss: 2.0871 - val_accuracy: 0.4898 - lr: 1.0000e-04\n",
      "Epoch 3/5\n",
      "71/71 [==============================] - 46s 641ms/step - loss: 1.9218 - accuracy: 0.5108 - val_loss: 1.9153 - val_accuracy: 0.5236 - lr: 1.0000e-04\n",
      "Epoch 4/5\n",
      "71/71 [==============================] - 46s 652ms/step - loss: 1.7069 - accuracy: 0.5779 - val_loss: 1.7899 - val_accuracy: 0.5476 - lr: 1.0000e-04\n",
      "Epoch 5/5\n",
      "71/71 [==============================] - 46s 641ms/step - loss: 1.4974 - accuracy: 0.6427 - val_loss: 1.6712 - val_accuracy: 0.5962 - lr: 1.0000e-04\n",
      "71/71 [==============================] - 3s 38ms/step - loss: 1.6712 - accuracy: 0.5962\n",
      "Classification Accuracy:  0.596170961856842\n"
     ]
    }
   ],
   "source": [
    "import math\n",
    "\n",
    "INITIAL_LEARNING_RATE = 1e-4\n",
    "EPOCHS_NUM = 5\n",
    "\n",
    "def lr_step_decay(epoch, lr):\n",
    "    drop_rate = 0.5\n",
    "    epochs_drop = 5\n",
    "    return INITIAL_LEARNING_RATE * math.pow(drop_rate, math.floor(epoch/epochs_drop))\n",
    "\n",
    "\n",
    "embedding_dim = 64\n",
    "\n",
    "# Create a model\n",
    "model_8 = tf.keras.Sequential([\n",
    "       tf.keras.layers.Embedding(input_dim=max_features, output_dim=embedding_dim, input_length=pad_length),\n",
    "       tf.keras.layers.Flatten(),\n",
    "       tf.keras.layers.Dense(1024, activation='relu'),\n",
    "       tf.keras.layers.Dropout(.5),\n",
    "       tf.keras.layers.Dense(46, activation='softmax')\n",
    "])\n",
    "\n",
    "\n",
    "model_8.compile(optimizer='adam', loss='sparse_categorical_crossentropy', metrics=['accuracy'])\n",
    "\n",
    "\n",
    "history = model_8.fit(train_data, train_labels, validation_data = (test_data, test_labels), batch_size = 128, epochs=5, validation_split=0.2, callbacks=[LearningRateScheduler(lr_step_decay, verbose=0)])\n",
    "\n",
    "evals_test = model_8.evaluate(test_data, test_labels)\n",
    "print(\"Classification Accuracy: \", evals_test[1])\n"
   ]
  },
  {
   "cell_type": "markdown",
   "metadata": {
    "id": "d1ZYPE7-BjTe"
   },
   "source": [
    "## Create and Train a Model with Recurrent Layers"
   ]
  },
  {
   "cell_type": "code",
   "execution_count": null,
   "metadata": {
    "colab": {
     "base_uri": "https://localhost:8080/"
    },
    "id": "JpZc6ZuB_3b3",
    "outputId": "9ac3f094-5096-429c-e5b2-9544b628b8d6"
   },
   "outputs": [
    {
     "name": "stdout",
     "output_type": "stream",
     "text": [
      "Epoch 1/5\n",
      "71/71 [==============================] - 77s 1s/step - loss: 2.3959 - accuracy: 0.3835 - val_loss: 1.8349 - val_accuracy: 0.5027\n",
      "Epoch 2/5\n",
      "71/71 [==============================] - 71s 1s/step - loss: 1.6930 - accuracy: 0.5574 - val_loss: 1.6886 - val_accuracy: 0.5882\n",
      "Epoch 3/5\n",
      "71/71 [==============================] - 74s 1s/step - loss: 1.5936 - accuracy: 0.5549 - val_loss: 1.6615 - val_accuracy: 0.5739\n",
      "Epoch 4/5\n",
      "71/71 [==============================] - 72s 1s/step - loss: 1.3555 - accuracy: 0.6349 - val_loss: 1.5996 - val_accuracy: 0.5939\n",
      "Epoch 5/5\n",
      "71/71 [==============================] - 74s 1s/step - loss: 1.1748 - accuracy: 0.6780 - val_loss: 1.6564 - val_accuracy: 0.5904\n",
      "71/71 [==============================] - 5s 72ms/step - loss: 1.6564 - accuracy: 0.5904\n",
      "Classification Accuracy:  0.5903828740119934\n"
     ]
    }
   ],
   "source": [
    "embedding_dim = 64\n",
    "\n",
    "model_9 = tf.keras.Sequential([\n",
    "       tf.keras.layers.Embedding(input_dim=max_features, output_dim=embedding_dim, input_length=pad_length),\n",
    "       tf.keras.layers.Bidirectional(tf.keras.layers.LSTM(64)),\n",
    "       tf.keras.layers.Dense(1024, activation='relu'),\n",
    "       tf.keras.layers.Dense(46, activation='softmax')\n",
    "])\n",
    "\n",
    "model_9.compile(optimizer='adam', loss='sparse_categorical_crossentropy', metrics=['accuracy'])\n",
    "\n",
    "history = model_9.fit(train_data, train_labels, validation_data = (test_data, test_labels), batch_size = 128, epochs=5, validation_split=0.2)\n",
    "\n",
    "evals_test = model_9.evaluate(test_data, test_labels)\n",
    "print(\"Classification Accuracy: \", evals_test[1])"
   ]
  },
  {
   "cell_type": "markdown",
   "metadata": {
    "id": "Sh84hp-iSOqI"
   },
   "source": [
    "### Improved Model"
   ]
  },
  {
   "cell_type": "code",
   "execution_count": null,
   "metadata": {
    "colab": {
     "base_uri": "https://localhost:8080/"
    },
    "id": "FTvAJ3aqABr8",
    "outputId": "aabe8876-0a6b-4fba-da23-98b60ae39f4e"
   },
   "outputs": [
    {
     "name": "stdout",
     "output_type": "stream",
     "text": [
      "Epoch 1/5\n",
      "71/71 [==============================] - 78s 1s/step - loss: 2.4967 - accuracy: 0.3703 - val_loss: 2.0338 - val_accuracy: 0.4207 - lr: 0.0010\n",
      "Epoch 2/5\n",
      "71/71 [==============================] - 72s 1s/step - loss: 1.8106 - accuracy: 0.5119 - val_loss: 1.7533 - val_accuracy: 0.5401 - lr: 0.0010\n",
      "Epoch 3/5\n",
      "71/71 [==============================] - 72s 1s/step - loss: 1.5248 - accuracy: 0.6050 - val_loss: 1.6649 - val_accuracy: 0.5962 - lr: 0.0010\n",
      "Epoch 4/5\n",
      "71/71 [==============================] - 72s 1s/step - loss: 1.3317 - accuracy: 0.6532 - val_loss: 1.5531 - val_accuracy: 0.6015 - lr: 0.0010\n",
      "Epoch 5/5\n",
      "71/71 [==============================] - 74s 1s/step - loss: 1.1720 - accuracy: 0.6867 - val_loss: 1.6026 - val_accuracy: 0.6015 - lr: 0.0010\n",
      "71/71 [==============================] - 5s 71ms/step - loss: 1.6026 - accuracy: 0.6015\n",
      "Classification Accuracy:  0.6015138030052185\n"
     ]
    }
   ],
   "source": [
    "embedding_dim = 64\n",
    "model_9_improved = tf.keras.Sequential([\n",
    "       tf.keras.layers.Embedding(input_dim=max_features, output_dim=embedding_dim, input_length=pad_length),\n",
    "       tf.keras.layers.Bidirectional(tf.keras.layers.LSTM(64)),\n",
    "       tf.keras.layers.Dense(1024, activation='relu'),\n",
    "       tf.keras.layers.Dense(46, activation='softmax')\n",
    "])\n",
    "\n",
    "\n",
    "model_9_improved.compile(optimizer='adam', loss='sparse_categorical_crossentropy', metrics=['accuracy'])\n",
    "\n",
    "history = model_9_improved.fit(train_data, train_labels, validation_data = (test_data, test_labels), batch_size = 128, epochs=5, validation_split=0.2, callbacks=[ReduceLROnPlateau(monitor='val_loss', factor=0.1, patience=10, min_lr=1e-6, verbose=1)])\n",
    "\n",
    "evals_test = model_9_improved.evaluate(test_data, test_labels)\n",
    "print(\"Classification Accuracy: \", evals_test[1])"
   ]
  },
  {
   "cell_type": "markdown",
   "metadata": {
    "id": "J1LfCvrgrvYA"
   },
   "source": [
    "## Create and Train a Transformer Model"
   ]
  },
  {
   "cell_type": "code",
   "execution_count": null,
   "metadata": {
    "colab": {
     "base_uri": "https://localhost:8080/"
    },
    "id": "onp8ED-Arl-4",
    "outputId": "18656a6d-3a32-4c18-8780-a2fcaca381eb"
   },
   "outputs": [
    {
     "name": "stdout",
     "output_type": "stream",
     "text": [
      "Epoch 1/2\n",
      "281/281 [==============================] - 108s 377ms/step - loss: 1.9972 - accuracy: 0.5126 - val_loss: 1.3969 - val_accuracy: 0.6679\n",
      "Epoch 2/2\n",
      "281/281 [==============================] - 105s 375ms/step - loss: 1.1092 - accuracy: 0.7369 - val_loss: 1.0867 - val_accuracy: 0.7418\n",
      "71/71 [==============================] - 9s 125ms/step - loss: 1.0867 - accuracy: 0.7418\n",
      "Classification Accuracy:  0.7417631149291992\n"
     ]
    }
   ],
   "source": [
    "# Your Code Here\n",
    "import tensorflow as tf\n",
    "from tensorflow import keras\n",
    "from tensorflow.keras import layers\n",
    "\n",
    "class TokenAndPositionEmbedding(layers.Layer):\n",
    "    def __init__(self, maxlen, vocab_size, embed_dim):\n",
    "        super().__init__()\n",
    "        self.token_embeddings = layers.Embedding(input_dim=vocab_size, output_dim=embed_dim)\n",
    "        self.positional_embeddings = layers.Embedding(input_dim=maxlen, output_dim=embed_dim)\n",
    "\n",
    "    def call(self, inputs):\n",
    "        maxlen = tf.shape(inputs)[-1]\n",
    "        positions = tf.range(start=0, limit=maxlen, delta=1)\n",
    "        position_embeddings = self.positional_embeddings(positions)\n",
    "        input_embeddings = self.token_embeddings(inputs)\n",
    "        return input_embeddings + position_embeddings\n",
    "\n",
    "class TransformerEncoder(layers.Layer):\n",
    "    def __init__(self, embed_dim, num_heads, ff_dim, rate=0.1):\n",
    "        super().__init__()\n",
    "        self.multi_head_attention = layers.MultiHeadAttention(num_heads=num_heads, key_dim=embed_dim)\n",
    "        self.feed_forward_net = keras.Sequential([layers.Dense(ff_dim, activation=\"relu\"), layers.Dense(embed_dim),])\n",
    "        self.layer_normalization1 = layers.LayerNormalization(epsilon=1e-6)\n",
    "        self.layer_normalization2 = layers.LayerNormalization(epsilon=1e-6)\n",
    "        self.dropout1 = layers.Dropout(rate)\n",
    "        self.dropout2 = layers.Dropout(rate)\n",
    "\n",
    "    def call(self, inputs, training):\n",
    "        multi_head_att_output = self.multi_head_attention(inputs, inputs)\n",
    "        multi_head_att_dropout = self.dropout1(multi_head_att_output, training=training)\n",
    "        add_norm_output_1 = self.layer_normalization1(inputs + multi_head_att_dropout)\n",
    "        feed_forward_output = self.feed_forward_net(add_norm_output_1)\n",
    "        feed_forward_dropout = self.dropout2(feed_forward_output, training=training)\n",
    "        add_norm_output_2 = self.layer_normalization2(add_norm_output_1 + feed_forward_dropout)\n",
    "        return add_norm_output_2\n",
    "\n",
    "\n",
    "maxlen = 300  # Maximum length of input sequences is 300 words\n",
    "embed_dim = 64  # Embedding size for each token\n",
    "num_heads = 2  # Number of attention heads\n",
    "ff_dim = 46  # Dense layer size in the feed forward network inside transformer\n",
    "vocab_size = 30979  # The size of the vocabulary is 20k words\n",
    "\n",
    "# encoder\n",
    "inputs = layers.Input(shape=(maxlen,))\n",
    "embedding_layer = TokenAndPositionEmbedding(maxlen, vocab_size, embed_dim)(inputs)\n",
    "x = TransformerEncoder(embed_dim, num_heads, ff_dim)(embedding_layer)\n",
    "\n",
    "# classifier\n",
    "x = layers.GlobalAveragePooling1D()(x)\n",
    "x = layers.Dropout(0.1)(x)\n",
    "x = layers.Dense(20, activation=\"relu\")(x)\n",
    "x = layers.Dropout(0.1)(x)\n",
    "outputs = layers.Dense(46, activation=\"sigmoid\")(x)\n",
    "\n",
    "model_10 = keras.Model(inputs=inputs, outputs=outputs)\n",
    "\n",
    "model_10.compile(optimizer=\"adam\", loss=\"sparse_categorical_crossentropy\", metrics=[\"accuracy\"])\n",
    "\n",
    "model_10.fit(train_data, train_labels, batch_size=32, epochs=2, validation_data=(test_data, test_labels))\n",
    "\n",
    "evals_test = model_10.evaluate(test_data, test_labels)\n",
    "print(\"Classification Accuracy: \", evals_test[1])"
   ]
  }
 ],
 "metadata": {
  "accelerator": "GPU",
  "colab": {
   "machine_shape": "hm",
   "provenance": []
  },
  "gpuClass": "standard",
  "kernelspec": {
   "display_name": "Python 3 (ipykernel)",
   "language": "python",
   "name": "python3"
  },
  "language_info": {
   "codemirror_mode": {
    "name": "ipython",
    "version": 3
   },
   "file_extension": ".py",
   "mimetype": "text/x-python",
   "name": "python",
   "nbconvert_exporter": "python",
   "pygments_lexer": "ipython3",
   "version": "3.9.13"
  }
 },
 "nbformat": 4,
 "nbformat_minor": 1
}
